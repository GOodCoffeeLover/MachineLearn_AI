{
 "cells": [
  {
   "cell_type": "code",
   "execution_count": 251,
   "id": "89c3c4c0",
   "metadata": {},
   "outputs": [
    {
     "name": "stdout",
     "output_type": "stream",
     "text": [
      "Defaulting to user installation because normal site-packages is not writeable\n",
      "Requirement already satisfied: pandas in /home/schizophrenia/.local/lib/python3.8/site-packages (1.2.4)\n",
      "Requirement already satisfied: pytz>=2017.3 in /usr/lib/python3/dist-packages (from pandas) (2019.3)\n",
      "Requirement already satisfied: numpy>=1.16.5 in /usr/local/lib/python3.8/dist-packages (from pandas) (1.20.2)\n",
      "Requirement already satisfied: python-dateutil>=2.7.3 in /usr/lib/python3/dist-packages (from pandas) (2.7.3)\n",
      "Note: you may need to restart the kernel to use updated packages.\n",
      "Defaulting to user installation because normal site-packages is not writeable\n",
      "Requirement already satisfied: numpy in /usr/local/lib/python3.8/dist-packages (1.20.2)\n",
      "Note: you may need to restart the kernel to use updated packages.\n",
      "Defaulting to user installation because normal site-packages is not writeable\n",
      "Requirement already satisfied: sklearn in /home/schizophrenia/.local/lib/python3.8/site-packages (0.0)\n",
      "Requirement already satisfied: scikit-learn in /home/schizophrenia/.local/lib/python3.8/site-packages (from sklearn) (0.24.2)\n",
      "Requirement already satisfied: numpy>=1.13.3 in /usr/local/lib/python3.8/dist-packages (from scikit-learn->sklearn) (1.20.2)\n",
      "Requirement already satisfied: joblib>=0.11 in /home/schizophrenia/.local/lib/python3.8/site-packages (from scikit-learn->sklearn) (1.0.1)\n",
      "Requirement already satisfied: threadpoolctl>=2.0.0 in /home/schizophrenia/.local/lib/python3.8/site-packages (from scikit-learn->sklearn) (2.1.0)\n",
      "Requirement already satisfied: scipy>=0.19.1 in /usr/local/lib/python3.8/dist-packages (from scikit-learn->sklearn) (1.6.2)\n",
      "Note: you may need to restart the kernel to use updated packages.\n"
     ]
    }
   ],
   "source": [
    "%pip install pandas\n",
    "%pip install numpy\n",
    "%pip install sklearn"
   ]
  },
  {
   "cell_type": "markdown",
   "id": "af854e0c",
   "metadata": {},
   "source": [
    "# О датасете"
   ]
  },
  {
   "cell_type": "markdown",
   "id": "f3ac0bb4",
   "metadata": {},
   "source": [
    "Был выбран датасет отображающий информацию о людях: возраст, занятость, образование, семейное положение, происхождение, отношения, раса, пол, увеличение или потерю капитала, количество рабочих часов в неделю, страна происхождения и информация о доходах. Задача: по указанным признакам определить, что доход человека больше или не привышает 50 тысяч долларов.\n",
    "\n",
    "[Ссылка на источник.](https://www.kaggle.com/wenruliu/adult-income-dataset \"Adult income dataset\")"
   ]
  },
  {
   "cell_type": "markdown",
   "id": "db26cff1",
   "metadata": {},
   "source": [
    "# Работа с датасетом"
   ]
  },
  {
   "cell_type": "markdown",
   "id": "94d393de",
   "metadata": {},
   "source": [
    "Исходный файл формата csv формата имеет 48842 записи. Всего 6 количественных признаков и 8 качественных признаков. Отсутствующие данные отмечены знаком вопроса '?'."
   ]
  },
  {
   "cell_type": "code",
   "execution_count": 252,
   "id": "2a519632",
   "metadata": {},
   "outputs": [
    {
     "data": {
      "text/html": [
       "<div>\n",
       "<style scoped>\n",
       "    .dataframe tbody tr th:only-of-type {\n",
       "        vertical-align: middle;\n",
       "    }\n",
       "\n",
       "    .dataframe tbody tr th {\n",
       "        vertical-align: top;\n",
       "    }\n",
       "\n",
       "    .dataframe thead th {\n",
       "        text-align: right;\n",
       "    }\n",
       "</style>\n",
       "<table border=\"1\" class=\"dataframe\">\n",
       "  <thead>\n",
       "    <tr style=\"text-align: right;\">\n",
       "      <th></th>\n",
       "      <th>age</th>\n",
       "      <th>workclass</th>\n",
       "      <th>fnlwgt</th>\n",
       "      <th>education</th>\n",
       "      <th>educational-num</th>\n",
       "      <th>marital-status</th>\n",
       "      <th>occupation</th>\n",
       "      <th>relationship</th>\n",
       "      <th>race</th>\n",
       "      <th>gender</th>\n",
       "      <th>capital-gain</th>\n",
       "      <th>capital-loss</th>\n",
       "      <th>hours-per-week</th>\n",
       "      <th>native-country</th>\n",
       "      <th>income</th>\n",
       "    </tr>\n",
       "  </thead>\n",
       "  <tbody>\n",
       "    <tr>\n",
       "      <th>0</th>\n",
       "      <td>25</td>\n",
       "      <td>Private</td>\n",
       "      <td>226802</td>\n",
       "      <td>11th</td>\n",
       "      <td>7</td>\n",
       "      <td>Never-married</td>\n",
       "      <td>Machine-op-inspct</td>\n",
       "      <td>Own-child</td>\n",
       "      <td>Black</td>\n",
       "      <td>Male</td>\n",
       "      <td>0</td>\n",
       "      <td>0</td>\n",
       "      <td>40</td>\n",
       "      <td>United-States</td>\n",
       "      <td>&lt;=50K</td>\n",
       "    </tr>\n",
       "    <tr>\n",
       "      <th>1</th>\n",
       "      <td>38</td>\n",
       "      <td>Private</td>\n",
       "      <td>89814</td>\n",
       "      <td>HS-grad</td>\n",
       "      <td>9</td>\n",
       "      <td>Married-civ-spouse</td>\n",
       "      <td>Farming-fishing</td>\n",
       "      <td>Husband</td>\n",
       "      <td>White</td>\n",
       "      <td>Male</td>\n",
       "      <td>0</td>\n",
       "      <td>0</td>\n",
       "      <td>50</td>\n",
       "      <td>United-States</td>\n",
       "      <td>&lt;=50K</td>\n",
       "    </tr>\n",
       "    <tr>\n",
       "      <th>2</th>\n",
       "      <td>28</td>\n",
       "      <td>Local-gov</td>\n",
       "      <td>336951</td>\n",
       "      <td>Assoc-acdm</td>\n",
       "      <td>12</td>\n",
       "      <td>Married-civ-spouse</td>\n",
       "      <td>Protective-serv</td>\n",
       "      <td>Husband</td>\n",
       "      <td>White</td>\n",
       "      <td>Male</td>\n",
       "      <td>0</td>\n",
       "      <td>0</td>\n",
       "      <td>40</td>\n",
       "      <td>United-States</td>\n",
       "      <td>&gt;50K</td>\n",
       "    </tr>\n",
       "    <tr>\n",
       "      <th>3</th>\n",
       "      <td>44</td>\n",
       "      <td>Private</td>\n",
       "      <td>160323</td>\n",
       "      <td>Some-college</td>\n",
       "      <td>10</td>\n",
       "      <td>Married-civ-spouse</td>\n",
       "      <td>Machine-op-inspct</td>\n",
       "      <td>Husband</td>\n",
       "      <td>Black</td>\n",
       "      <td>Male</td>\n",
       "      <td>7688</td>\n",
       "      <td>0</td>\n",
       "      <td>40</td>\n",
       "      <td>United-States</td>\n",
       "      <td>&gt;50K</td>\n",
       "    </tr>\n",
       "    <tr>\n",
       "      <th>4</th>\n",
       "      <td>18</td>\n",
       "      <td>NaN</td>\n",
       "      <td>103497</td>\n",
       "      <td>Some-college</td>\n",
       "      <td>10</td>\n",
       "      <td>Never-married</td>\n",
       "      <td>NaN</td>\n",
       "      <td>Own-child</td>\n",
       "      <td>White</td>\n",
       "      <td>Female</td>\n",
       "      <td>0</td>\n",
       "      <td>0</td>\n",
       "      <td>30</td>\n",
       "      <td>United-States</td>\n",
       "      <td>&lt;=50K</td>\n",
       "    </tr>\n",
       "    <tr>\n",
       "      <th>...</th>\n",
       "      <td>...</td>\n",
       "      <td>...</td>\n",
       "      <td>...</td>\n",
       "      <td>...</td>\n",
       "      <td>...</td>\n",
       "      <td>...</td>\n",
       "      <td>...</td>\n",
       "      <td>...</td>\n",
       "      <td>...</td>\n",
       "      <td>...</td>\n",
       "      <td>...</td>\n",
       "      <td>...</td>\n",
       "      <td>...</td>\n",
       "      <td>...</td>\n",
       "      <td>...</td>\n",
       "    </tr>\n",
       "    <tr>\n",
       "      <th>48837</th>\n",
       "      <td>27</td>\n",
       "      <td>Private</td>\n",
       "      <td>257302</td>\n",
       "      <td>Assoc-acdm</td>\n",
       "      <td>12</td>\n",
       "      <td>Married-civ-spouse</td>\n",
       "      <td>Tech-support</td>\n",
       "      <td>Wife</td>\n",
       "      <td>White</td>\n",
       "      <td>Female</td>\n",
       "      <td>0</td>\n",
       "      <td>0</td>\n",
       "      <td>38</td>\n",
       "      <td>United-States</td>\n",
       "      <td>&lt;=50K</td>\n",
       "    </tr>\n",
       "    <tr>\n",
       "      <th>48838</th>\n",
       "      <td>40</td>\n",
       "      <td>Private</td>\n",
       "      <td>154374</td>\n",
       "      <td>HS-grad</td>\n",
       "      <td>9</td>\n",
       "      <td>Married-civ-spouse</td>\n",
       "      <td>Machine-op-inspct</td>\n",
       "      <td>Husband</td>\n",
       "      <td>White</td>\n",
       "      <td>Male</td>\n",
       "      <td>0</td>\n",
       "      <td>0</td>\n",
       "      <td>40</td>\n",
       "      <td>United-States</td>\n",
       "      <td>&gt;50K</td>\n",
       "    </tr>\n",
       "    <tr>\n",
       "      <th>48839</th>\n",
       "      <td>58</td>\n",
       "      <td>Private</td>\n",
       "      <td>151910</td>\n",
       "      <td>HS-grad</td>\n",
       "      <td>9</td>\n",
       "      <td>Widowed</td>\n",
       "      <td>Adm-clerical</td>\n",
       "      <td>Unmarried</td>\n",
       "      <td>White</td>\n",
       "      <td>Female</td>\n",
       "      <td>0</td>\n",
       "      <td>0</td>\n",
       "      <td>40</td>\n",
       "      <td>United-States</td>\n",
       "      <td>&lt;=50K</td>\n",
       "    </tr>\n",
       "    <tr>\n",
       "      <th>48840</th>\n",
       "      <td>22</td>\n",
       "      <td>Private</td>\n",
       "      <td>201490</td>\n",
       "      <td>HS-grad</td>\n",
       "      <td>9</td>\n",
       "      <td>Never-married</td>\n",
       "      <td>Adm-clerical</td>\n",
       "      <td>Own-child</td>\n",
       "      <td>White</td>\n",
       "      <td>Male</td>\n",
       "      <td>0</td>\n",
       "      <td>0</td>\n",
       "      <td>20</td>\n",
       "      <td>United-States</td>\n",
       "      <td>&lt;=50K</td>\n",
       "    </tr>\n",
       "    <tr>\n",
       "      <th>48841</th>\n",
       "      <td>52</td>\n",
       "      <td>Self-emp-inc</td>\n",
       "      <td>287927</td>\n",
       "      <td>HS-grad</td>\n",
       "      <td>9</td>\n",
       "      <td>Married-civ-spouse</td>\n",
       "      <td>Exec-managerial</td>\n",
       "      <td>Wife</td>\n",
       "      <td>White</td>\n",
       "      <td>Female</td>\n",
       "      <td>15024</td>\n",
       "      <td>0</td>\n",
       "      <td>40</td>\n",
       "      <td>United-States</td>\n",
       "      <td>&gt;50K</td>\n",
       "    </tr>\n",
       "  </tbody>\n",
       "</table>\n",
       "<p>48842 rows × 15 columns</p>\n",
       "</div>"
      ],
      "text/plain": [
       "       age     workclass  fnlwgt     education  educational-num  \\\n",
       "0       25       Private  226802          11th                7   \n",
       "1       38       Private   89814       HS-grad                9   \n",
       "2       28     Local-gov  336951    Assoc-acdm               12   \n",
       "3       44       Private  160323  Some-college               10   \n",
       "4       18           NaN  103497  Some-college               10   \n",
       "...    ...           ...     ...           ...              ...   \n",
       "48837   27       Private  257302    Assoc-acdm               12   \n",
       "48838   40       Private  154374       HS-grad                9   \n",
       "48839   58       Private  151910       HS-grad                9   \n",
       "48840   22       Private  201490       HS-grad                9   \n",
       "48841   52  Self-emp-inc  287927       HS-grad                9   \n",
       "\n",
       "           marital-status         occupation relationship   race  gender  \\\n",
       "0           Never-married  Machine-op-inspct    Own-child  Black    Male   \n",
       "1      Married-civ-spouse    Farming-fishing      Husband  White    Male   \n",
       "2      Married-civ-spouse    Protective-serv      Husband  White    Male   \n",
       "3      Married-civ-spouse  Machine-op-inspct      Husband  Black    Male   \n",
       "4           Never-married                NaN    Own-child  White  Female   \n",
       "...                   ...                ...          ...    ...     ...   \n",
       "48837  Married-civ-spouse       Tech-support         Wife  White  Female   \n",
       "48838  Married-civ-spouse  Machine-op-inspct      Husband  White    Male   \n",
       "48839             Widowed       Adm-clerical    Unmarried  White  Female   \n",
       "48840       Never-married       Adm-clerical    Own-child  White    Male   \n",
       "48841  Married-civ-spouse    Exec-managerial         Wife  White  Female   \n",
       "\n",
       "       capital-gain  capital-loss  hours-per-week native-country income  \n",
       "0                 0             0              40  United-States  <=50K  \n",
       "1                 0             0              50  United-States  <=50K  \n",
       "2                 0             0              40  United-States   >50K  \n",
       "3              7688             0              40  United-States   >50K  \n",
       "4                 0             0              30  United-States  <=50K  \n",
       "...             ...           ...             ...            ...    ...  \n",
       "48837             0             0              38  United-States  <=50K  \n",
       "48838             0             0              40  United-States   >50K  \n",
       "48839             0             0              40  United-States  <=50K  \n",
       "48840             0             0              20  United-States  <=50K  \n",
       "48841         15024             0              40  United-States   >50K  \n",
       "\n",
       "[48842 rows x 15 columns]"
      ]
     },
     "execution_count": 252,
     "metadata": {},
     "output_type": "execute_result"
    }
   ],
   "source": [
    "import pandas as pd\n",
    "data = pd.read_csv(\"./adult.csv\", na_values = \"?\")\n",
    "data"
   ]
  },
  {
   "cell_type": "markdown",
   "id": "68b904e2",
   "metadata": {},
   "source": [
    "Как видно, данные отсутствуют в 3х столбцах: workclass, occupation, native-country.  Всего ячеек с пропущенными данными 0.9 процента, а вот \"людей\" с пропущенными данными уже 7%, что не так много, в принципе, поэтому просто удалим эти строки."
   ]
  },
  {
   "cell_type": "code",
   "execution_count": 253,
   "id": "9d6f3274",
   "metadata": {
    "scrolled": true
   },
   "outputs": [
    {
     "data": {
      "text/plain": [
       "age                   0\n",
       "workclass          2799\n",
       "fnlwgt                0\n",
       "education             0\n",
       "educational-num       0\n",
       "marital-status        0\n",
       "occupation         2809\n",
       "relationship          0\n",
       "race                  0\n",
       "gender                0\n",
       "capital-gain          0\n",
       "capital-loss          0\n",
       "hours-per-week        0\n",
       "native-country      857\n",
       "income                0\n",
       "dtype: int64"
      ]
     },
     "execution_count": 253,
     "metadata": {},
     "output_type": "execute_result"
    }
   ],
   "source": [
    "missing_values_count = data.isnull().sum()\n",
    "missing_values_count"
   ]
  },
  {
   "cell_type": "code",
   "execution_count": 254,
   "id": "54c7a29e",
   "metadata": {},
   "outputs": [
    {
     "name": "stdout",
     "output_type": "stream",
     "text": [
      "precent missing cells = 0.8824372466319971\n",
      "precent of lines with missing data = 7.411653904426519\n"
     ]
    }
   ],
   "source": [
    "print(\"precent missing cells = \" + str(missing_values_count.sum()/(data.shape[0]*data.shape[1])*100))\n",
    "print(\"precent of lines with missing data = \" + str((data.shape[0]-data.dropna().shape[0])/data.shape[0]*100))\n"
   ]
  },
  {
   "cell_type": "code",
   "execution_count": 255,
   "id": "10b7c6e3",
   "metadata": {},
   "outputs": [
    {
     "data": {
      "text/html": [
       "<div>\n",
       "<style scoped>\n",
       "    .dataframe tbody tr th:only-of-type {\n",
       "        vertical-align: middle;\n",
       "    }\n",
       "\n",
       "    .dataframe tbody tr th {\n",
       "        vertical-align: top;\n",
       "    }\n",
       "\n",
       "    .dataframe thead th {\n",
       "        text-align: right;\n",
       "    }\n",
       "</style>\n",
       "<table border=\"1\" class=\"dataframe\">\n",
       "  <thead>\n",
       "    <tr style=\"text-align: right;\">\n",
       "      <th></th>\n",
       "      <th>age</th>\n",
       "      <th>workclass</th>\n",
       "      <th>fnlwgt</th>\n",
       "      <th>education</th>\n",
       "      <th>educational-num</th>\n",
       "      <th>marital-status</th>\n",
       "      <th>occupation</th>\n",
       "      <th>relationship</th>\n",
       "      <th>race</th>\n",
       "      <th>gender</th>\n",
       "      <th>capital-gain</th>\n",
       "      <th>capital-loss</th>\n",
       "      <th>hours-per-week</th>\n",
       "      <th>native-country</th>\n",
       "      <th>income</th>\n",
       "    </tr>\n",
       "  </thead>\n",
       "  <tbody>\n",
       "    <tr>\n",
       "      <th>0</th>\n",
       "      <td>25</td>\n",
       "      <td>Private</td>\n",
       "      <td>226802</td>\n",
       "      <td>11th</td>\n",
       "      <td>7</td>\n",
       "      <td>Never-married</td>\n",
       "      <td>Machine-op-inspct</td>\n",
       "      <td>Own-child</td>\n",
       "      <td>Black</td>\n",
       "      <td>Male</td>\n",
       "      <td>0</td>\n",
       "      <td>0</td>\n",
       "      <td>40</td>\n",
       "      <td>United-States</td>\n",
       "      <td>&lt;=50K</td>\n",
       "    </tr>\n",
       "    <tr>\n",
       "      <th>1</th>\n",
       "      <td>38</td>\n",
       "      <td>Private</td>\n",
       "      <td>89814</td>\n",
       "      <td>HS-grad</td>\n",
       "      <td>9</td>\n",
       "      <td>Married-civ-spouse</td>\n",
       "      <td>Farming-fishing</td>\n",
       "      <td>Husband</td>\n",
       "      <td>White</td>\n",
       "      <td>Male</td>\n",
       "      <td>0</td>\n",
       "      <td>0</td>\n",
       "      <td>50</td>\n",
       "      <td>United-States</td>\n",
       "      <td>&lt;=50K</td>\n",
       "    </tr>\n",
       "    <tr>\n",
       "      <th>2</th>\n",
       "      <td>28</td>\n",
       "      <td>Local-gov</td>\n",
       "      <td>336951</td>\n",
       "      <td>Assoc-acdm</td>\n",
       "      <td>12</td>\n",
       "      <td>Married-civ-spouse</td>\n",
       "      <td>Protective-serv</td>\n",
       "      <td>Husband</td>\n",
       "      <td>White</td>\n",
       "      <td>Male</td>\n",
       "      <td>0</td>\n",
       "      <td>0</td>\n",
       "      <td>40</td>\n",
       "      <td>United-States</td>\n",
       "      <td>&gt;50K</td>\n",
       "    </tr>\n",
       "    <tr>\n",
       "      <th>3</th>\n",
       "      <td>44</td>\n",
       "      <td>Private</td>\n",
       "      <td>160323</td>\n",
       "      <td>Some-college</td>\n",
       "      <td>10</td>\n",
       "      <td>Married-civ-spouse</td>\n",
       "      <td>Machine-op-inspct</td>\n",
       "      <td>Husband</td>\n",
       "      <td>Black</td>\n",
       "      <td>Male</td>\n",
       "      <td>7688</td>\n",
       "      <td>0</td>\n",
       "      <td>40</td>\n",
       "      <td>United-States</td>\n",
       "      <td>&gt;50K</td>\n",
       "    </tr>\n",
       "    <tr>\n",
       "      <th>4</th>\n",
       "      <td>34</td>\n",
       "      <td>Private</td>\n",
       "      <td>198693</td>\n",
       "      <td>10th</td>\n",
       "      <td>6</td>\n",
       "      <td>Never-married</td>\n",
       "      <td>Other-service</td>\n",
       "      <td>Not-in-family</td>\n",
       "      <td>White</td>\n",
       "      <td>Male</td>\n",
       "      <td>0</td>\n",
       "      <td>0</td>\n",
       "      <td>30</td>\n",
       "      <td>United-States</td>\n",
       "      <td>&lt;=50K</td>\n",
       "    </tr>\n",
       "    <tr>\n",
       "      <th>...</th>\n",
       "      <td>...</td>\n",
       "      <td>...</td>\n",
       "      <td>...</td>\n",
       "      <td>...</td>\n",
       "      <td>...</td>\n",
       "      <td>...</td>\n",
       "      <td>...</td>\n",
       "      <td>...</td>\n",
       "      <td>...</td>\n",
       "      <td>...</td>\n",
       "      <td>...</td>\n",
       "      <td>...</td>\n",
       "      <td>...</td>\n",
       "      <td>...</td>\n",
       "      <td>...</td>\n",
       "    </tr>\n",
       "    <tr>\n",
       "      <th>45217</th>\n",
       "      <td>27</td>\n",
       "      <td>Private</td>\n",
       "      <td>257302</td>\n",
       "      <td>Assoc-acdm</td>\n",
       "      <td>12</td>\n",
       "      <td>Married-civ-spouse</td>\n",
       "      <td>Tech-support</td>\n",
       "      <td>Wife</td>\n",
       "      <td>White</td>\n",
       "      <td>Female</td>\n",
       "      <td>0</td>\n",
       "      <td>0</td>\n",
       "      <td>38</td>\n",
       "      <td>United-States</td>\n",
       "      <td>&lt;=50K</td>\n",
       "    </tr>\n",
       "    <tr>\n",
       "      <th>45218</th>\n",
       "      <td>40</td>\n",
       "      <td>Private</td>\n",
       "      <td>154374</td>\n",
       "      <td>HS-grad</td>\n",
       "      <td>9</td>\n",
       "      <td>Married-civ-spouse</td>\n",
       "      <td>Machine-op-inspct</td>\n",
       "      <td>Husband</td>\n",
       "      <td>White</td>\n",
       "      <td>Male</td>\n",
       "      <td>0</td>\n",
       "      <td>0</td>\n",
       "      <td>40</td>\n",
       "      <td>United-States</td>\n",
       "      <td>&gt;50K</td>\n",
       "    </tr>\n",
       "    <tr>\n",
       "      <th>45219</th>\n",
       "      <td>58</td>\n",
       "      <td>Private</td>\n",
       "      <td>151910</td>\n",
       "      <td>HS-grad</td>\n",
       "      <td>9</td>\n",
       "      <td>Widowed</td>\n",
       "      <td>Adm-clerical</td>\n",
       "      <td>Unmarried</td>\n",
       "      <td>White</td>\n",
       "      <td>Female</td>\n",
       "      <td>0</td>\n",
       "      <td>0</td>\n",
       "      <td>40</td>\n",
       "      <td>United-States</td>\n",
       "      <td>&lt;=50K</td>\n",
       "    </tr>\n",
       "    <tr>\n",
       "      <th>45220</th>\n",
       "      <td>22</td>\n",
       "      <td>Private</td>\n",
       "      <td>201490</td>\n",
       "      <td>HS-grad</td>\n",
       "      <td>9</td>\n",
       "      <td>Never-married</td>\n",
       "      <td>Adm-clerical</td>\n",
       "      <td>Own-child</td>\n",
       "      <td>White</td>\n",
       "      <td>Male</td>\n",
       "      <td>0</td>\n",
       "      <td>0</td>\n",
       "      <td>20</td>\n",
       "      <td>United-States</td>\n",
       "      <td>&lt;=50K</td>\n",
       "    </tr>\n",
       "    <tr>\n",
       "      <th>45221</th>\n",
       "      <td>52</td>\n",
       "      <td>Self-emp-inc</td>\n",
       "      <td>287927</td>\n",
       "      <td>HS-grad</td>\n",
       "      <td>9</td>\n",
       "      <td>Married-civ-spouse</td>\n",
       "      <td>Exec-managerial</td>\n",
       "      <td>Wife</td>\n",
       "      <td>White</td>\n",
       "      <td>Female</td>\n",
       "      <td>15024</td>\n",
       "      <td>0</td>\n",
       "      <td>40</td>\n",
       "      <td>United-States</td>\n",
       "      <td>&gt;50K</td>\n",
       "    </tr>\n",
       "  </tbody>\n",
       "</table>\n",
       "<p>45222 rows × 15 columns</p>\n",
       "</div>"
      ],
      "text/plain": [
       "       age     workclass  fnlwgt     education  educational-num  \\\n",
       "0       25       Private  226802          11th                7   \n",
       "1       38       Private   89814       HS-grad                9   \n",
       "2       28     Local-gov  336951    Assoc-acdm               12   \n",
       "3       44       Private  160323  Some-college               10   \n",
       "4       34       Private  198693          10th                6   \n",
       "...    ...           ...     ...           ...              ...   \n",
       "45217   27       Private  257302    Assoc-acdm               12   \n",
       "45218   40       Private  154374       HS-grad                9   \n",
       "45219   58       Private  151910       HS-grad                9   \n",
       "45220   22       Private  201490       HS-grad                9   \n",
       "45221   52  Self-emp-inc  287927       HS-grad                9   \n",
       "\n",
       "           marital-status         occupation   relationship   race  gender  \\\n",
       "0           Never-married  Machine-op-inspct      Own-child  Black    Male   \n",
       "1      Married-civ-spouse    Farming-fishing        Husband  White    Male   \n",
       "2      Married-civ-spouse    Protective-serv        Husband  White    Male   \n",
       "3      Married-civ-spouse  Machine-op-inspct        Husband  Black    Male   \n",
       "4           Never-married      Other-service  Not-in-family  White    Male   \n",
       "...                   ...                ...            ...    ...     ...   \n",
       "45217  Married-civ-spouse       Tech-support           Wife  White  Female   \n",
       "45218  Married-civ-spouse  Machine-op-inspct        Husband  White    Male   \n",
       "45219             Widowed       Adm-clerical      Unmarried  White  Female   \n",
       "45220       Never-married       Adm-clerical      Own-child  White    Male   \n",
       "45221  Married-civ-spouse    Exec-managerial           Wife  White  Female   \n",
       "\n",
       "       capital-gain  capital-loss  hours-per-week native-country income  \n",
       "0                 0             0              40  United-States  <=50K  \n",
       "1                 0             0              50  United-States  <=50K  \n",
       "2                 0             0              40  United-States   >50K  \n",
       "3              7688             0              40  United-States   >50K  \n",
       "4                 0             0              30  United-States  <=50K  \n",
       "...             ...           ...             ...            ...    ...  \n",
       "45217             0             0              38  United-States  <=50K  \n",
       "45218             0             0              40  United-States   >50K  \n",
       "45219             0             0              40  United-States  <=50K  \n",
       "45220             0             0              20  United-States  <=50K  \n",
       "45221         15024             0              40  United-States   >50K  \n",
       "\n",
       "[45222 rows x 15 columns]"
      ]
     },
     "execution_count": 255,
     "metadata": {},
     "output_type": "execute_result"
    }
   ],
   "source": [
    "data = data.dropna()\n",
    "#data = data.drop_duplicates(subset = list(data.columns)[0:-1])\n",
    "data.reset_index(inplace=True, drop=True)\n",
    "data"
   ]
  },
  {
   "cell_type": "markdown",
   "id": "b33b9daf",
   "metadata": {},
   "source": [
    "Соотношение мужчин и женищн 30527 к 14695, что примерно 2 к 1."
   ]
  },
  {
   "cell_type": "code",
   "execution_count": 256,
   "id": "30932506",
   "metadata": {},
   "outputs": [
    {
     "name": "stdout",
     "output_type": "stream",
     "text": [
      "Male      30527\n",
      "Female    14695\n",
      "Name: gender, dtype: int64\n"
     ]
    },
    {
     "data": {
      "image/png": "[encoded data removed]",
      "text/plain": [
       "<Figure size 432x288 with 1 Axes>"
      ]
     },
     "metadata": {
      "needs_background": "light"
     },
     "output_type": "display_data"
    }
   ],
   "source": [
    "import matplotlib.pyplot as plt\n",
    "fig, ax = plt.subplots() \n",
    "dat = data['gender'].value_counts() \n",
    "print(dat)\n",
    "# get x and y data \n",
    "points = dat.index \n",
    "frequency = dat.values \n",
    "# create bar chart \n",
    "ax.bar(points, frequency);\n",
    "#plt.plot(points, frequency, 'o')"
   ]
  },
  {
   "cell_type": "markdown",
   "id": "fb6fab70",
   "metadata": {},
   "source": [
    "Попробуем обнаружить кореляцию между количественными признакми."
   ]
  },
  {
   "cell_type": "code",
   "execution_count": 257,
   "id": "c3e38677",
   "metadata": {},
   "outputs": [
    {
     "data": {
      "image/png": "[encoded data removed]",
      "text/plain": [
       "<Figure size 432x288 with 36 Axes>"
      ]
     },
     "metadata": {
      "needs_background": "light"
     },
     "output_type": "display_data"
    }
   ],
   "source": [
    "\n",
    "\n",
    "coli = ['age', 'fnlwgt', 'educational-num', 'capital-gain', 'capital-loss', 'hours-per-week']        \n",
    "pd.plotting.scatter_matrix(data[coli], alpha=0.01);\n"
   ]
  },
  {
   "cell_type": "markdown",
   "id": "74b9fb75",
   "metadata": {},
   "source": [
    "Кореляция не обнаружена.\n",
    "Посмотрим на распределение возрастов."
   ]
  },
  {
   "cell_type": "code",
   "execution_count": 258,
   "id": "ae7bc5cc",
   "metadata": {},
   "outputs": [
    {
     "data": {
      "image/png": "[encoded data removed]",
      "text/plain": [
       "<Figure size 432x288 with 1 Axes>"
      ]
     },
     "metadata": {
      "needs_background": "light"
     },
     "output_type": "display_data"
    }
   ],
   "source": [
    "import matplotlib.pyplot as plt\n",
    "\n",
    "fig, ax = plt.subplots() \n",
    "dat = data['age'].value_counts() \n",
    "# get x and y data \n",
    "points = dat.index \n",
    "frequency = dat.values \n",
    "# create bar chart \n",
    "#ax.bar(points, frequency);\n",
    "plt.plot(points, frequency, 'o');"
   ]
  },
  {
   "cell_type": "code",
   "execution_count": 259,
   "id": "fe6c10d9",
   "metadata": {},
   "outputs": [
    {
     "data": {
      "image/png": "[encoded data removed]",
      "text/plain": [
       "<Figure size 432x288 with 1 Axes>"
      ]
     },
     "metadata": {
      "needs_background": "light"
     },
     "output_type": "display_data"
    },
    {
     "data": {
      "image/png": "[encoded data removed]",
      "text/plain": [
       "<Figure size 432x288 with 1 Axes>"
      ]
     },
     "metadata": {
      "needs_background": "light"
     },
     "output_type": "display_data"
    }
   ],
   "source": [
    "data[['income', 'age' ]].boxplot(by= 'income');\n",
    "data[['income', 'hours-per-week' ]].boxplot(by= 'income');"
   ]
  },
  {
   "cell_type": "code",
   "execution_count": 260,
   "id": "b3059b8a",
   "metadata": {},
   "outputs": [
    {
     "data": {
      "image/png": "[encoded data removed]",
      "text/plain": [
       "<Figure size 432x288 with 1 Axes>"
      ]
     },
     "metadata": {
      "needs_background": "light"
     },
     "output_type": "display_data"
    },
    {
     "data": {
      "image/png": "[encoded data removed]",
      "text/plain": [
       "<Figure size 432x288 with 1 Axes>"
      ]
     },
     "metadata": {
      "needs_background": "light"
     },
     "output_type": "display_data"
    },
    {
     "data": {
      "image/png": "[encoded data removed]",
      "text/plain": [
       "<Figure size 432x288 with 1 Axes>"
      ]
     },
     "metadata": {
      "needs_background": "light"
     },
     "output_type": "display_data"
    }
   ],
   "source": [
    "for feat in ['gender', 'workclass', 'education']:\n",
    "    income = {}\n",
    "    for i in range(data.shape[0]):\n",
    "        if income.get(data[feat][i]) == None:\n",
    "            income[data[feat][i]]=[0,0]\n",
    "        if data['income'][i] == '<=50K':\n",
    "            income[data[feat][i]][0]+=1\n",
    "        else:\n",
    "            income[data[feat][i]][1]+=1\n",
    "    indexes = list(income.keys())\n",
    "    less = [ income[ind][0] for ind in income ]\n",
    "    more = [ income[ind][1] for ind in income ] \n",
    "    pd.DataFrame({'<=50k': less,'>50k': more}, index=indexes).plot.bar();"
   ]
  },
  {
   "cell_type": "markdown",
   "id": "c4fa8e22",
   "metadata": {},
   "source": [
    "По полученным графикам можно сделать несколько выводов:\n",
    "* Количество людей, получающих меньше 50 тысяч больше, чем получающих больше 50 тысяч;\n",
    "* Более старшие люди и работающие больше 40 часов в неделю более вероятно получаютбольше 50 тысяч людей\n",
    "* С увеличением уровня обучения повышается количество людей, получающих больше 50 тысяч."
   ]
  },
  {
   "cell_type": "markdown",
   "id": "3d00bbb0",
   "metadata": {},
   "source": [
    "Так как столбцы education и education-num содержат одинаковую информацию, то удалим столбец education. Ещё уберём столбцы capital-loss и capital-gain, т.к. они почти все нули. Так же уберём marital-status т.к. он, по идее, должен быть связан с relationship, а так же fnlwgt, т.к. это какая-то информация из базы переписи, а её смысл непонятен.\n",
    "А так же заменим все качественные признаки на числа для более удобной работы."
   ]
  },
  {
   "cell_type": "code",
   "execution_count": 261,
   "id": "c367897b",
   "metadata": {},
   "outputs": [],
   "source": [
    "data=data.drop(labels=['education', 'capital-loss', 'capital-gain', 'marital-status', 'fnlwgt'], axis=1)\n"
   ]
  },
  {
   "cell_type": "code",
   "execution_count": 262,
   "id": "c35aae49",
   "metadata": {},
   "outputs": [
    {
     "data": {
      "text/html": [
       "<div>\n",
       "<style scoped>\n",
       "    .dataframe tbody tr th:only-of-type {\n",
       "        vertical-align: middle;\n",
       "    }\n",
       "\n",
       "    .dataframe tbody tr th {\n",
       "        vertical-align: top;\n",
       "    }\n",
       "\n",
       "    .dataframe thead th {\n",
       "        text-align: right;\n",
       "    }\n",
       "</style>\n",
       "<table border=\"1\" class=\"dataframe\">\n",
       "  <thead>\n",
       "    <tr style=\"text-align: right;\">\n",
       "      <th></th>\n",
       "      <th>age</th>\n",
       "      <th>workclass</th>\n",
       "      <th>educational-num</th>\n",
       "      <th>occupation</th>\n",
       "      <th>relationship</th>\n",
       "      <th>race</th>\n",
       "      <th>gender</th>\n",
       "      <th>hours-per-week</th>\n",
       "      <th>native-country</th>\n",
       "      <th>income</th>\n",
       "    </tr>\n",
       "  </thead>\n",
       "  <tbody>\n",
       "    <tr>\n",
       "      <th>0</th>\n",
       "      <td>25</td>\n",
       "      <td>2</td>\n",
       "      <td>7</td>\n",
       "      <td>6</td>\n",
       "      <td>3</td>\n",
       "      <td>2</td>\n",
       "      <td>1</td>\n",
       "      <td>40</td>\n",
       "      <td>38</td>\n",
       "      <td>0</td>\n",
       "    </tr>\n",
       "    <tr>\n",
       "      <th>1</th>\n",
       "      <td>38</td>\n",
       "      <td>2</td>\n",
       "      <td>9</td>\n",
       "      <td>4</td>\n",
       "      <td>0</td>\n",
       "      <td>4</td>\n",
       "      <td>1</td>\n",
       "      <td>50</td>\n",
       "      <td>38</td>\n",
       "      <td>0</td>\n",
       "    </tr>\n",
       "    <tr>\n",
       "      <th>2</th>\n",
       "      <td>28</td>\n",
       "      <td>1</td>\n",
       "      <td>12</td>\n",
       "      <td>10</td>\n",
       "      <td>0</td>\n",
       "      <td>4</td>\n",
       "      <td>1</td>\n",
       "      <td>40</td>\n",
       "      <td>38</td>\n",
       "      <td>1</td>\n",
       "    </tr>\n",
       "    <tr>\n",
       "      <th>3</th>\n",
       "      <td>44</td>\n",
       "      <td>2</td>\n",
       "      <td>10</td>\n",
       "      <td>6</td>\n",
       "      <td>0</td>\n",
       "      <td>2</td>\n",
       "      <td>1</td>\n",
       "      <td>40</td>\n",
       "      <td>38</td>\n",
       "      <td>1</td>\n",
       "    </tr>\n",
       "    <tr>\n",
       "      <th>4</th>\n",
       "      <td>34</td>\n",
       "      <td>2</td>\n",
       "      <td>6</td>\n",
       "      <td>7</td>\n",
       "      <td>1</td>\n",
       "      <td>4</td>\n",
       "      <td>1</td>\n",
       "      <td>30</td>\n",
       "      <td>38</td>\n",
       "      <td>0</td>\n",
       "    </tr>\n",
       "    <tr>\n",
       "      <th>...</th>\n",
       "      <td>...</td>\n",
       "      <td>...</td>\n",
       "      <td>...</td>\n",
       "      <td>...</td>\n",
       "      <td>...</td>\n",
       "      <td>...</td>\n",
       "      <td>...</td>\n",
       "      <td>...</td>\n",
       "      <td>...</td>\n",
       "      <td>...</td>\n",
       "    </tr>\n",
       "    <tr>\n",
       "      <th>45217</th>\n",
       "      <td>27</td>\n",
       "      <td>2</td>\n",
       "      <td>12</td>\n",
       "      <td>12</td>\n",
       "      <td>5</td>\n",
       "      <td>4</td>\n",
       "      <td>0</td>\n",
       "      <td>38</td>\n",
       "      <td>38</td>\n",
       "      <td>0</td>\n",
       "    </tr>\n",
       "    <tr>\n",
       "      <th>45218</th>\n",
       "      <td>40</td>\n",
       "      <td>2</td>\n",
       "      <td>9</td>\n",
       "      <td>6</td>\n",
       "      <td>0</td>\n",
       "      <td>4</td>\n",
       "      <td>1</td>\n",
       "      <td>40</td>\n",
       "      <td>38</td>\n",
       "      <td>1</td>\n",
       "    </tr>\n",
       "    <tr>\n",
       "      <th>45219</th>\n",
       "      <td>58</td>\n",
       "      <td>2</td>\n",
       "      <td>9</td>\n",
       "      <td>0</td>\n",
       "      <td>4</td>\n",
       "      <td>4</td>\n",
       "      <td>0</td>\n",
       "      <td>40</td>\n",
       "      <td>38</td>\n",
       "      <td>0</td>\n",
       "    </tr>\n",
       "    <tr>\n",
       "      <th>45220</th>\n",
       "      <td>22</td>\n",
       "      <td>2</td>\n",
       "      <td>9</td>\n",
       "      <td>0</td>\n",
       "      <td>3</td>\n",
       "      <td>4</td>\n",
       "      <td>1</td>\n",
       "      <td>20</td>\n",
       "      <td>38</td>\n",
       "      <td>0</td>\n",
       "    </tr>\n",
       "    <tr>\n",
       "      <th>45221</th>\n",
       "      <td>52</td>\n",
       "      <td>3</td>\n",
       "      <td>9</td>\n",
       "      <td>3</td>\n",
       "      <td>5</td>\n",
       "      <td>4</td>\n",
       "      <td>0</td>\n",
       "      <td>40</td>\n",
       "      <td>38</td>\n",
       "      <td>1</td>\n",
       "    </tr>\n",
       "  </tbody>\n",
       "</table>\n",
       "<p>45222 rows × 10 columns</p>\n",
       "</div>"
      ],
      "text/plain": [
       "       age  workclass  educational-num  occupation  relationship  race  \\\n",
       "0       25          2                7           6             3     2   \n",
       "1       38          2                9           4             0     4   \n",
       "2       28          1               12          10             0     4   \n",
       "3       44          2               10           6             0     2   \n",
       "4       34          2                6           7             1     4   \n",
       "...    ...        ...              ...         ...           ...   ...   \n",
       "45217   27          2               12          12             5     4   \n",
       "45218   40          2                9           6             0     4   \n",
       "45219   58          2                9           0             4     4   \n",
       "45220   22          2                9           0             3     4   \n",
       "45221   52          3                9           3             5     4   \n",
       "\n",
       "       gender  hours-per-week  native-country  income  \n",
       "0           1              40              38       0  \n",
       "1           1              50              38       0  \n",
       "2           1              40              38       1  \n",
       "3           1              40              38       1  \n",
       "4           1              30              38       0  \n",
       "...       ...             ...             ...     ...  \n",
       "45217       0              38              38       0  \n",
       "45218       1              40              38       1  \n",
       "45219       0              40              38       0  \n",
       "45220       1              20              38       0  \n",
       "45221       0              40              38       1  \n",
       "\n",
       "[45222 rows x 10 columns]"
      ]
     },
     "execution_count": 262,
     "metadata": {},
     "output_type": "execute_result"
    }
   ],
   "source": [
    "columns = ['workclass', 'occupation', 'relationship', 'race', 'gender', 'native-country', 'income']\n",
    "data[columns] = data[columns].apply(lambda col:pd.Categorical(col).codes)\n",
    "data        "
   ]
  },
  {
   "cell_type": "markdown",
   "id": "9f193b9a",
   "metadata": {},
   "source": [
    "Масштабируем наш датасет алгоритмом минимакс."
   ]
  },
  {
   "cell_type": "code",
   "execution_count": 263,
   "id": "b82244f7",
   "metadata": {},
   "outputs": [
    {
     "data": {
      "text/html": [
       "<div>\n",
       "<style scoped>\n",
       "    .dataframe tbody tr th:only-of-type {\n",
       "        vertical-align: middle;\n",
       "    }\n",
       "\n",
       "    .dataframe tbody tr th {\n",
       "        vertical-align: top;\n",
       "    }\n",
       "\n",
       "    .dataframe thead th {\n",
       "        text-align: right;\n",
       "    }\n",
       "</style>\n",
       "<table border=\"1\" class=\"dataframe\">\n",
       "  <thead>\n",
       "    <tr style=\"text-align: right;\">\n",
       "      <th></th>\n",
       "      <th>age</th>\n",
       "      <th>workclass</th>\n",
       "      <th>educational-num</th>\n",
       "      <th>occupation</th>\n",
       "      <th>relationship</th>\n",
       "      <th>race</th>\n",
       "      <th>gender</th>\n",
       "      <th>hours-per-week</th>\n",
       "      <th>native-country</th>\n",
       "      <th>income</th>\n",
       "    </tr>\n",
       "  </thead>\n",
       "  <tbody>\n",
       "    <tr>\n",
       "      <th>0</th>\n",
       "      <td>0.109589</td>\n",
       "      <td>0.333333</td>\n",
       "      <td>0.400000</td>\n",
       "      <td>0.461538</td>\n",
       "      <td>0.6</td>\n",
       "      <td>0.5</td>\n",
       "      <td>1.0</td>\n",
       "      <td>0.397959</td>\n",
       "      <td>0.95</td>\n",
       "      <td>0.0</td>\n",
       "    </tr>\n",
       "    <tr>\n",
       "      <th>1</th>\n",
       "      <td>0.287671</td>\n",
       "      <td>0.333333</td>\n",
       "      <td>0.533333</td>\n",
       "      <td>0.307692</td>\n",
       "      <td>0.0</td>\n",
       "      <td>1.0</td>\n",
       "      <td>1.0</td>\n",
       "      <td>0.500000</td>\n",
       "      <td>0.95</td>\n",
       "      <td>0.0</td>\n",
       "    </tr>\n",
       "    <tr>\n",
       "      <th>2</th>\n",
       "      <td>0.150685</td>\n",
       "      <td>0.166667</td>\n",
       "      <td>0.733333</td>\n",
       "      <td>0.769231</td>\n",
       "      <td>0.0</td>\n",
       "      <td>1.0</td>\n",
       "      <td>1.0</td>\n",
       "      <td>0.397959</td>\n",
       "      <td>0.95</td>\n",
       "      <td>1.0</td>\n",
       "    </tr>\n",
       "    <tr>\n",
       "      <th>3</th>\n",
       "      <td>0.369863</td>\n",
       "      <td>0.333333</td>\n",
       "      <td>0.600000</td>\n",
       "      <td>0.461538</td>\n",
       "      <td>0.0</td>\n",
       "      <td>0.5</td>\n",
       "      <td>1.0</td>\n",
       "      <td>0.397959</td>\n",
       "      <td>0.95</td>\n",
       "      <td>1.0</td>\n",
       "    </tr>\n",
       "    <tr>\n",
       "      <th>4</th>\n",
       "      <td>0.232877</td>\n",
       "      <td>0.333333</td>\n",
       "      <td>0.333333</td>\n",
       "      <td>0.538462</td>\n",
       "      <td>0.2</td>\n",
       "      <td>1.0</td>\n",
       "      <td>1.0</td>\n",
       "      <td>0.295918</td>\n",
       "      <td>0.95</td>\n",
       "      <td>0.0</td>\n",
       "    </tr>\n",
       "    <tr>\n",
       "      <th>...</th>\n",
       "      <td>...</td>\n",
       "      <td>...</td>\n",
       "      <td>...</td>\n",
       "      <td>...</td>\n",
       "      <td>...</td>\n",
       "      <td>...</td>\n",
       "      <td>...</td>\n",
       "      <td>...</td>\n",
       "      <td>...</td>\n",
       "      <td>...</td>\n",
       "    </tr>\n",
       "    <tr>\n",
       "      <th>45217</th>\n",
       "      <td>0.136986</td>\n",
       "      <td>0.333333</td>\n",
       "      <td>0.733333</td>\n",
       "      <td>0.923077</td>\n",
       "      <td>1.0</td>\n",
       "      <td>1.0</td>\n",
       "      <td>0.0</td>\n",
       "      <td>0.377551</td>\n",
       "      <td>0.95</td>\n",
       "      <td>0.0</td>\n",
       "    </tr>\n",
       "    <tr>\n",
       "      <th>45218</th>\n",
       "      <td>0.315068</td>\n",
       "      <td>0.333333</td>\n",
       "      <td>0.533333</td>\n",
       "      <td>0.461538</td>\n",
       "      <td>0.0</td>\n",
       "      <td>1.0</td>\n",
       "      <td>1.0</td>\n",
       "      <td>0.397959</td>\n",
       "      <td>0.95</td>\n",
       "      <td>1.0</td>\n",
       "    </tr>\n",
       "    <tr>\n",
       "      <th>45219</th>\n",
       "      <td>0.561644</td>\n",
       "      <td>0.333333</td>\n",
       "      <td>0.533333</td>\n",
       "      <td>0.000000</td>\n",
       "      <td>0.8</td>\n",
       "      <td>1.0</td>\n",
       "      <td>0.0</td>\n",
       "      <td>0.397959</td>\n",
       "      <td>0.95</td>\n",
       "      <td>0.0</td>\n",
       "    </tr>\n",
       "    <tr>\n",
       "      <th>45220</th>\n",
       "      <td>0.068493</td>\n",
       "      <td>0.333333</td>\n",
       "      <td>0.533333</td>\n",
       "      <td>0.000000</td>\n",
       "      <td>0.6</td>\n",
       "      <td>1.0</td>\n",
       "      <td>1.0</td>\n",
       "      <td>0.193878</td>\n",
       "      <td>0.95</td>\n",
       "      <td>0.0</td>\n",
       "    </tr>\n",
       "    <tr>\n",
       "      <th>45221</th>\n",
       "      <td>0.479452</td>\n",
       "      <td>0.500000</td>\n",
       "      <td>0.533333</td>\n",
       "      <td>0.230769</td>\n",
       "      <td>1.0</td>\n",
       "      <td>1.0</td>\n",
       "      <td>0.0</td>\n",
       "      <td>0.397959</td>\n",
       "      <td>0.95</td>\n",
       "      <td>1.0</td>\n",
       "    </tr>\n",
       "  </tbody>\n",
       "</table>\n",
       "<p>45222 rows × 10 columns</p>\n",
       "</div>"
      ],
      "text/plain": [
       "            age  workclass  educational-num  occupation  relationship  race  \\\n",
       "0      0.109589   0.333333         0.400000    0.461538           0.6   0.5   \n",
       "1      0.287671   0.333333         0.533333    0.307692           0.0   1.0   \n",
       "2      0.150685   0.166667         0.733333    0.769231           0.0   1.0   \n",
       "3      0.369863   0.333333         0.600000    0.461538           0.0   0.5   \n",
       "4      0.232877   0.333333         0.333333    0.538462           0.2   1.0   \n",
       "...         ...        ...              ...         ...           ...   ...   \n",
       "45217  0.136986   0.333333         0.733333    0.923077           1.0   1.0   \n",
       "45218  0.315068   0.333333         0.533333    0.461538           0.0   1.0   \n",
       "45219  0.561644   0.333333         0.533333    0.000000           0.8   1.0   \n",
       "45220  0.068493   0.333333         0.533333    0.000000           0.6   1.0   \n",
       "45221  0.479452   0.500000         0.533333    0.230769           1.0   1.0   \n",
       "\n",
       "       gender  hours-per-week  native-country  income  \n",
       "0         1.0        0.397959            0.95     0.0  \n",
       "1         1.0        0.500000            0.95     0.0  \n",
       "2         1.0        0.397959            0.95     1.0  \n",
       "3         1.0        0.397959            0.95     1.0  \n",
       "4         1.0        0.295918            0.95     0.0  \n",
       "...       ...             ...             ...     ...  \n",
       "45217     0.0        0.377551            0.95     0.0  \n",
       "45218     1.0        0.397959            0.95     1.0  \n",
       "45219     0.0        0.397959            0.95     0.0  \n",
       "45220     1.0        0.193878            0.95     0.0  \n",
       "45221     0.0        0.397959            0.95     1.0  \n",
       "\n",
       "[45222 rows x 10 columns]"
      ]
     },
     "execution_count": 263,
     "metadata": {},
     "output_type": "execute_result"
    }
   ],
   "source": [
    "from sklearn.preprocessing import MinMaxScaler\n",
    "data[list(data.columns)]= MinMaxScaler().fit_transform(data[list(data.columns)])\n",
    "data"
   ]
  },
  {
   "cell_type": "markdown",
   "id": "1f5bb94f",
   "metadata": {},
   "source": [
    "Разобьём наш дата сет на два в пропорции 2 к 1 для обучения и тестирования."
   ]
  },
  {
   "cell_type": "code",
   "execution_count": 264,
   "id": "b68d9013",
   "metadata": {},
   "outputs": [],
   "source": [
    "import numpy as np\n",
    "shuffled = data.sample(frac=1)\n",
    "parts = np.array_split(shuffled, 3)\n",
    "data_learn = pd.concat(parts[0:2])\n",
    "data_test = parts[2]\n",
    "data_learn.reset_index(inplace=True, drop=True)\n",
    "data_test.reset_index(inplace=True, drop=True)"
   ]
  },
  {
   "cell_type": "markdown",
   "id": "6265c1a9",
   "metadata": {},
   "source": [
    "Переведём наши выборки в список списков, а ответы вынесем в отдельные списки."
   ]
  },
  {
   "cell_type": "code",
   "execution_count": 265,
   "id": "4601a133",
   "metadata": {},
   "outputs": [],
   "source": [
    "data_learn_l = data_learn.values.tolist()\n",
    "data_test_l = data_test.values.tolist()\n",
    "\n",
    "ans_learn = {}\n",
    "ans_test = {}\n",
    "\n",
    "for line in data_learn_l:\n",
    "    ans_learn[repr(line[:-1])] = line[-1]\n",
    "    line.pop()\n",
    "\n",
    "for line in data_test_l:\n",
    "    ans_test[repr(line[:-1])] = line[-1]\n",
    "    line.pop()"
   ]
  },
  {
   "cell_type": "markdown",
   "id": "73de9785",
   "metadata": {},
   "source": [
    "# KNN"
   ]
  },
  {
   "cell_type": "markdown",
   "id": "01cc27c3",
   "metadata": {},
   "source": [
    "Заведём три функции расстояния и функцию весов."
   ]
  },
  {
   "cell_type": "code",
   "execution_count": 200,
   "id": "900546de",
   "metadata": {},
   "outputs": [],
   "source": [
    "from math import sqrt\n",
    "\n",
    "def taxicab(v1, v2):\n",
    "    return sum([abs(x - y) for x, y in zip(v1, v2)])\n",
    "\n",
    "def euclidean(v1, v2):\n",
    "    return sqrt(sum([(x - y)**2 for x, y in zip(v1, v2)]))\n",
    "\n",
    "def inf_norm(v1, v2):\n",
    "    return max([abs(x - y) for x, y in zip(v1, v2)])\n",
    "               \n",
    "def weight(q, i):\n",
    "    return q**i"
   ]
  },
  {
   "cell_type": "markdown",
   "id": "bf7bd42d",
   "metadata": {},
   "source": [
    "Данная реализация **KNN** выбирает из обучающей выборки ближайшие k элементов добавляя и \"просеивая\" каждый раз новый элемент, а затем удаляя лишние элементы, если их больше k. Затем для этих элементов получаем взвешанные ответы (чем дальше, тем меньше вес) и выбираем ответ с наибольшим весом. Т.к. выборки слишком большие, было принято решение поставить ограничение в виде параметра size, чтобы тестовая выборка была размера size, а обучающая - 2*size."
   ]
  },
  {
   "cell_type": "code",
   "execution_count": 201,
   "id": "702c5059",
   "metadata": {},
   "outputs": [
    {
     "name": "stdout",
     "output_type": "stream",
     "text": [
      "distance function: euclidean\n",
      "predict rate: 80.80000000000001 %\n",
      "distance function: taxicab\n",
      "predict rate: 81.69999999999999 %\n",
      "distance function: inf_norm\n",
      "predict rate: 80.10000000000001 %\n"
     ]
    }
   ],
   "source": [
    "import numpy as np\n",
    "import functools\n",
    "import operator\n",
    "\n",
    "\n",
    "def knn_test(q:float, k:int, size:int, dist):\n",
    "    correct = 0\n",
    "    total = 0\n",
    "\n",
    "    for test in data_test_l[0:size]:\n",
    "        k_closest = []\n",
    "        for line in data_learn_l[0:2*size]:\n",
    "            k_closest.insert(0, line)\n",
    "            if len(k_closest)>1 :\n",
    "                for i in range(1, len(k_closest)-1):\n",
    "                    if dist(test, k_closest[i-1]) > dist(test, k_closest[i]) :\n",
    "                        k_closest[i-1], k_closest[i] = k_closest[i], k_closest[i-1]\n",
    "                    else:\n",
    "                        break\n",
    "            if len(k_closest)>k:\n",
    "                k_closest.pop()\n",
    "           \n",
    "        weights = {}\n",
    "        for i in range(k):\n",
    "            if ans_learn[repr(k_closest[i])] in weights:\n",
    "                weights[ans_learn[repr(k_closest[i])]] += weight(q, i)\n",
    "            else:\n",
    "                weights[ans_learn[repr(k_closest[i])]] = weight(q, i)\n",
    "        \n",
    "        predict = max(weights.items(), key=operator.itemgetter(1))[0]\n",
    "        true_ans = ans_test[repr(test)]\n",
    "        \n",
    "        if predict == true_ans:\n",
    "            correct += 1\n",
    "        total += 1\n",
    "        \n",
    "    predict_rate = correct / total\n",
    "    return predict_rate\n",
    "\n",
    "\n",
    "k = 7\n",
    "q = 0.9\n",
    "size = 1000 #less then ~15k\n",
    "\n",
    "for dist in [euclidean, taxicab, inf_norm]:\n",
    "    print('distance function:', dist.__name__)\n",
    "    res = knn_test(q, k, size, dist)\n",
    "    print('predict rate:', res*100, '%')"
   ]
  },
  {
   "cell_type": "markdown",
   "id": "c9b65157",
   "metadata": {},
   "source": [
    "# Наивный байесовский классификатор"
   ]
  },
  {
   "cell_type": "markdown",
   "id": "6ea7421e",
   "metadata": {},
   "source": [
    "Посчитаем количество элементов каждого класса."
   ]
  },
  {
   "cell_type": "code",
   "execution_count": 202,
   "id": "d04e0017",
   "metadata": {},
   "outputs": [
    {
     "data": {
      "text/plain": [
       "{0.0: 22592, 1.0: 7556}"
      ]
     },
     "execution_count": 202,
     "metadata": {},
     "output_type": "execute_result"
    }
   ],
   "source": [
    "classes = dict(data_learn['income'].value_counts())\n",
    "classes"
   ]
  },
  {
   "cell_type": "markdown",
   "id": "b043280e",
   "metadata": {},
   "source": [
    "Далее в каждом классе посчитаем входждения конкретного признака. Будем сравнивать переменные с точностью до 1 знака после запятой."
   ]
  },
  {
   "cell_type": "code",
   "execution_count": 203,
   "id": "c1f7f6f7",
   "metadata": {},
   "outputs": [],
   "source": [
    "distr = {}\n",
    "round_value = 1\n",
    "\n",
    "for line in data_learn_l:\n",
    "    for i in line:\n",
    "        if (ans_learn[repr(line)], round(i, round_value)) in distr:\n",
    "            distr[ans_learn[repr(line)], round(i, round_value)] += 1\n",
    "        else:\n",
    "            distr[ans_learn[repr(line)], round(i, round_value)] = 1"
   ]
  },
  {
   "cell_type": "markdown",
   "id": "8af2d158",
   "metadata": {},
   "source": [
    "Перейдём к вероятностям от количества."
   ]
  },
  {
   "cell_type": "code",
   "execution_count": 204,
   "id": "a951fec9",
   "metadata": {},
   "outputs": [],
   "source": [
    "for cl, val in distr:\n",
    "    distr[cl, val] /= classes[cl]\n",
    "    \n",
    "for cl in classes:\n",
    "    classes[cl] /= data_learn.shape[0]\n"
   ]
  },
  {
   "cell_type": "markdown",
   "id": "9c0a433b",
   "metadata": {},
   "source": [
    "Проверим работу на тестовой выборке."
   ]
  },
  {
   "cell_type": "code",
   "execution_count": 205,
   "id": "89fa9cf2",
   "metadata": {},
   "outputs": [
    {
     "name": "stdout",
     "output_type": "stream",
     "text": [
      "predict rate: 76.83428419795675 %\n"
     ]
    }
   ],
   "source": [
    "from math import log\n",
    "\n",
    "correct = 0\n",
    "total = len(data_test_l)\n",
    "\n",
    "for line in data_test_l:\n",
    "    cur_ans = {'val': 10**7, 'class': -1}\n",
    "    res_found = False\n",
    "    \n",
    "    for cl in classes:\n",
    "        summ = -log(classes[cl])\n",
    "        for i in line:\n",
    "            if (cl, round(i, round_value)) not in distr:\n",
    "                summ += 10**7\n",
    "            else:\n",
    "                summ += -log(distr[cl, round(i, round_value)])\n",
    "        if summ < cur_ans['val']:\n",
    "            res_found = True\n",
    "            cur_ans['val'] = summ\n",
    "            cur_ans['class'] = cl\n",
    "            \n",
    "    if res_found and cur_ans['class'] == ans_test[repr(line)]:\n",
    "        correct += 1\n",
    "            \n",
    "print('predict rate:', correct / total*100, '%')"
   ]
  },
  {
   "cell_type": "markdown",
   "id": "b690fbed",
   "metadata": {},
   "source": [
    "Полченный результат не сильно хуже полученного с помощью **KNN**, но получен значительно быстрее."
   ]
  },
  {
   "cell_type": "markdown",
   "id": "fcce5d67",
   "metadata": {},
   "source": [
    "# Сравнение с реализацией в sklearn"
   ]
  },
  {
   "cell_type": "markdown",
   "id": "bb95239a",
   "metadata": {},
   "source": [
    "## **KNN**"
   ]
  },
  {
   "cell_type": "code",
   "execution_count": 250,
   "id": "58a92671",
   "metadata": {},
   "outputs": [
    {
     "name": "stdout",
     "output_type": "stream",
     "text": [
      "predict rate for 1000 elements: 78.9 %\n",
      "predict rate for all elements: 80.8200092881311 %\n"
     ]
    }
   ],
   "source": [
    "from sklearn.neighbors import NearestNeighbors\n",
    "\n",
    "def knn_test_skl(q:float, k:int, size:int):\n",
    "    nbrs = NearestNeighbors(n_neighbors=k, algorithm='auto').fit(data_learn_l[0:2*size])\n",
    "    distances, indices = nbrs.kneighbors(data_test_l[0:size])\n",
    "\n",
    "    total = len(distances)\n",
    "    correct = 0\n",
    "\n",
    "    for i in range(total):\n",
    "        weights = {}\n",
    "        for j in range(k):\n",
    "            if ans_learn[repr(data_learn_l[indices[i][j]])] in weights:\n",
    "                weights[ans_learn[repr(data_learn_l[indices[i][j]])]] += weight(q, j)\n",
    "            else:\n",
    "                weights[ans_learn[repr(data_learn_l[indices[i][j]])]] = weight(q, j)\n",
    "\n",
    "        predict = max(weights.items(), key=operator.itemgetter(1))[0]\n",
    "        true_ans = ans_test[repr(data_test_l[i])]\n",
    "        if predict == true_ans:\n",
    "            correct += 1\n",
    "    return correct / total\n",
    "    \n",
    "k = 7\n",
    "q = 0.9\n",
    "size=1000\n",
    "res= knn_test_skl(q,k,size)\n",
    "\n",
    "print('predict rate for', size, 'elements:', res*100, '%')\n",
    "size=-1\n",
    "res= knn_test_skl(q,k,size)\n",
    "\n",
    "print('predict rate for all elements:', res*100, '%')\n",
    "\n"
   ]
  },
  {
   "cell_type": "markdown",
   "id": "15ab4f9d",
   "metadata": {},
   "source": [
    "Полученный результат для 1000 элементов несколько хуже, чем для моей реализации, но скорость реализации значительно выше, что позволяет обработать весь датасет и получить более хороший результат классификации."
   ]
  },
  {
   "cell_type": "markdown",
   "id": "c3837003",
   "metadata": {},
   "source": [
    " ## Байесовский классификатор"
   ]
  },
  {
   "cell_type": "code",
   "execution_count": 216,
   "id": "4b8ab0d4",
   "metadata": {},
   "outputs": [
    {
     "name": "stdout",
     "output_type": "stream",
     "text": [
      "predict rate: 79.71469116438867 %\n"
     ]
    }
   ],
   "source": [
    "from sklearn.naive_bayes import GaussianNB\n",
    "\n",
    "x_learn, y_learn = [eval(x) for x in ans_learn], list(ans_learn.values())\n",
    "x_test, y_test =   [eval(x) for x in ans_test],  list(ans_test.values())\n",
    "gnb = GaussianNB()\n",
    "y_pred = gnb.fit(x_learn, y_learn).predict(x_test)\n",
    "\n",
    "total = len(x_test)\n",
    "correct = [pred == corr for pred, corr in zip(y_pred, y_test)].count(True)\n",
    "\n",
    "print('predict rate:', correct / total*100, '%')"
   ]
  },
  {
   "cell_type": "markdown",
   "id": "a388d42a",
   "metadata": {},
   "source": [
    "Полученный результат чуть лучше, чем в моей реализации, но всё равно в районе 80%."
   ]
  },
  {
   "cell_type": "markdown",
   "id": "185cd67c",
   "metadata": {},
   "source": [
    "# Вывод"
   ]
  },
  {
   "cell_type": "markdown",
   "id": "1ed44f14",
   "metadata": {},
   "source": [
    "В ходе лабораторной работы были реализованны наивные алгоритмы **KNN** и **Naive Bayes**. В принципе, обе реализации показали процент предсказания около 80%. Даже готовые реализации не сильно лучше оказались реализованных мной в плане предсказания, кроме одного момента, что они оказались в разы быстрее, особенно готовы **KNN**. \n",
    "\n",
    "Поскольку некоторые данные по сути дублируют друг друга, а некоторые несут мало смысла, то они были удалены, что позволило быстрее обрабатывать их."
   ]
  }
 ],
 "metadata": {
  "kernelspec": {
   "display_name": "Python 3",
   "language": "python",
   "name": "python3"
  },
  "language_info": {
   "codemirror_mode": {
    "name": "ipython",
    "version": 3
   },
   "file_extension": ".py",
   "mimetype": "text/x-python",
   "name": "python",
   "nbconvert_exporter": "python",
   "pygments_lexer": "ipython3",
   "version": "3.8.5"
  }
 },
 "nbformat": 4,
 "nbformat_minor": 5
}
